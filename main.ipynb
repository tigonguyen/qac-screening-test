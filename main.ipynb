{
  "nbformat": 4,
  "nbformat_minor": 0,
  "metadata": {
    "colab": {
      "provenance": [],
      "authorship_tag": "ABX9TyP0Idzhpw98Ck0gGF1u3lbn",
      "include_colab_link": true
    },
    "kernelspec": {
      "name": "python3",
      "display_name": "Python 3"
    },
    "language_info": {
      "name": "python"
    }
  },
  "cells": [
    {
      "cell_type": "markdown",
      "metadata": {
        "id": "view-in-github",
        "colab_type": "text"
      },
      "source": [
        "<a href=\"https://colab.research.google.com/github/tigonguyen/qac-screening-test/blob/main/main.ipynb\" target=\"_parent\"><img src=\"https://colab.research.google.com/assets/colab-badge.svg\" alt=\"Open In Colab\"/></a>"
      ]
    },
    {
      "cell_type": "code",
      "execution_count": 1,
      "metadata": {
        "colab": {
          "base_uri": "https://localhost:8080/"
        },
        "id": "VygivKCX4Xfd",
        "outputId": "fb626307-3492-4777-d6fa-b8e00e829744"
      },
      "outputs": [
        {
          "output_type": "stream",
          "name": "stdout",
          "text": [
            "24 [12, 24, 25, 13, 4, 17, 31, 21, 15, 6]\n",
            "(True, 2)\n",
            "([12, 13, 4, 17, 21, 15, 6], 10)\n"
          ]
        }
      ],
      "source": [
        "import random\n",
        "\n",
        "def generate_random_list(n : int):\n",
        "    maxVal = 2 ** n -1\n",
        "    randomIntK = random.randint(1, maxVal)\n",
        "    uniqueIntSet = set()\n",
        "    while len(uniqueIntSet) < 2*n:\n",
        "        randomInt = random.randint(1, maxVal)\n",
        "        uniqueIntSet.add(randomInt)\n",
        "    uniqueIntList = list(uniqueIntSet)\n",
        "    random.shuffle(uniqueIntList)\n",
        "    return randomIntK, uniqueIntList\n",
        "\n",
        "def search_k(k: int, list_n: list[int]):\n",
        "    stepCount = 0\n",
        "    for each in list_n:\n",
        "        stepCount += 1\n",
        "        if k == each:\n",
        "            return True, stepCount\n",
        "    return False, stepCount\n",
        "\n",
        "\n",
        "def less_than_k(k: int, list_n: list[int]):\n",
        "    stepCount = 0\n",
        "    list_nk = list()\n",
        "    for each in list_n:\n",
        "        stepCount += 1\n",
        "        if each < k:\n",
        "            list_nk.append(each)\n",
        "    return list_nk, stepCount\n",
        "\n",
        "\n",
        "# Example:\n",
        "k, list_n = generate_random_list(5)\n",
        "k_exist = search_k(k, list_n)\n",
        "list_nk = less_than_k(k, list_n)\n",
        "print(k, list_n)\n",
        "print(k_exist)\n",
        "print(list_nk)\n",
        "\n",
        "# Output\n",
        "# 5, [3, 2, 5, 1, 6, 7]\n",
        "# (True, 3)\n",
        "# ([2, 1], 6)"
      ]
    }
  ]
}